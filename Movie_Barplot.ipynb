{
 "cells": [
  {
   "cell_type": "code",
   "execution_count": 4,
   "id": "baffe425",
   "metadata": {},
   "outputs": [
    {
     "name": "stderr",
     "output_type": "stream",
     "text": [
      "[nltk_data] Downloading package punkt to\n",
      "[nltk_data]     C:\\Users\\spiro\\AppData\\Roaming\\nltk_data...\n",
      "[nltk_data]   Unzipping tokenizers\\punkt.zip.\n"
     ]
    }
   ],
   "source": [
    "import pandas as pd\n",
    "from nltk import sent_tokenize, word_tokenize\n",
    "import nltk\n",
    "nltk.download('punkt')         #For some reason this is not included in nltk and had to download separately\n",
    "import numpy as np\n",
    "import matplotlib.pyplot as plt\n",
    "import operator"
   ]
  },
  {
   "cell_type": "code",
   "execution_count": 34,
   "id": "5a82ea83",
   "metadata": {},
   "outputs": [],
   "source": [
    "def barplot(words, freq):\n",
    "    \n",
    "    X_axis=np.arange(20)\n",
    "    \n",
    "    plt.bar(x=X_axis, height=freq, width=0.8, label = 'Word Count')\n",
    "    plt.xticks(X_axis, words, rotation = 90)              #Rotation 90 deg. so bar indexes do not cramp\n",
    "    plt.xlabel(\"Words\")\n",
    "    plt.ylabel(\"Repetitions\")\n",
    "    plt.title(\"Word Frequencies\")\n",
    "    plt.legend()\n",
    "    plt.show()"
   ]
  },
  {
   "cell_type": "code",
   "execution_count": 37,
   "id": "660f69dd",
   "metadata": {},
   "outputs": [],
   "source": [
    "def analyze_movie(data,actor_name,stopwords):\n",
    "    \n",
    "    df= pd.read_csv(data, index_col=\"Title\")    \n",
    "    actor_col=df['Actors']\n",
    "    \n",
    "    new_df=pd.DataFrame()\n",
    "\n",
    "    for actor in actor_col:\n",
    "        if actor_name in actor:\n",
    "            new_df=pd.concat([df[df['Actors']==actor],new_df],axis=0)\n",
    "    desc=new_df['Description']\n",
    "\n",
    "    word_pool=[]\n",
    "    for description in desc:\n",
    "        sentences=sent_tokenize(description)\n",
    "        for sentence in sentences:\n",
    "            words=word_tokenize(sentence)\n",
    "            word_pool=word_pool+words\n",
    "\n",
    "    wrd_count={}\n",
    "\n",
    "    for word in word_pool:\n",
    "    \n",
    "        word=word.lower()\n",
    "                \n",
    "        if word not in stopwords:\n",
    "            if word not in wrd_count: \n",
    "                wrd_count[word]=1\n",
    "            else:\n",
    "                wrd_count[word]=wrd_count[word]+1\n",
    "\n",
    "    plot_words=sorted(wrd_count.items(), key=operator.itemgetter(1), reverse=True)\n",
    "    \n",
    "    words=[]                                   #Words List [x][0]\n",
    "    freq=[]                                    #Word Frequencies [x][1]\n",
    "    for word in range (20):                    #Only the first 20 Words\n",
    "        words.append(plot_words[word][0])\n",
    "        freq.append(plot_words[word][1])\n",
    "    \n",
    "    barplot(words, freq)\n",
    "                    "
   ]
  },
  {
   "cell_type": "code",
   "execution_count": 38,
   "id": "9e154570",
   "metadata": {
    "scrolled": false
   },
   "outputs": [
    {
     "data": {
      "image/png": "[encoded data removed]",
      "text/plain": [
       "<Figure size 432x288 with 1 Axes>"
      ]
     },
     "metadata": {
      "needs_background": "light"
     },
     "output_type": "display_data"
    }
   ],
   "source": [
    "S=['a', 'the', 'he', 'she', 'to', ',', '.', 'and', 'of', 'in', 'as']\n",
    "\n",
    "analyze_movie('IMDB-Movie-Data.csv', 'Jim Carrey', S)"
   ]
  }
 ],
 "metadata": {
  "kernelspec": {
   "display_name": "Python 3 (ipykernel)",
   "language": "python",
   "name": "python3"
  },
  "language_info": {
   "codemirror_mode": {
    "name": "ipython",
    "version": 3
   },
   "file_extension": ".py",
   "mimetype": "text/x-python",
   "name": "python",
   "nbconvert_exporter": "python",
   "pygments_lexer": "ipython3",
   "version": "3.10.9"
  }
 },
 "nbformat": 4,
 "nbformat_minor": 5
}
